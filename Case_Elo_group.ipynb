{
  "nbformat": 4,
  "nbformat_minor": 0,
  "metadata": {
    "colab": {
      "provenance": [],
      "collapsed_sections": [
        "JlKTzv1k_66h",
        "Tp4HHFrrY20m"
      ],
      "mount_file_id": "1W8kTb9j9Mh8a-Bos2-G_ptV4ejmKpBUz",
      "authorship_tag": "ABX9TyNpKHHm6Jv/ONjtW0krDXFN",
      "include_colab_link": true
    },
    "kernelspec": {
      "name": "python3",
      "display_name": "Python 3"
    },
    "language_info": {
      "name": "python"
    }
  },
  "cells": [
    {
      "cell_type": "markdown",
      "metadata": {
        "id": "view-in-github",
        "colab_type": "text"
      },
      "source": [
        "<a href=\"https://colab.research.google.com/github/JFernandees/Data_science/blob/main/Case_Elo_group.ipynb\" target=\"_parent\"><img src=\"https://colab.research.google.com/assets/colab-badge.svg\" alt=\"Open In Colab\"/></a>"
      ]
    },
    {
      "cell_type": "markdown",
      "source": [
        "# **Análise de dados para a expansão estratégica de uma rede de laboratórios**\n",
        "\n",
        "O mercado de medicina diagnóstica é um segmento em constante crescimento da indústria de saúde, que oferece serviços de diagnóstico e testes para pacientes e médicos. Esses serviços incluem uma ampla gama de exames de laboratório, testes de imagem, testes genéticos e testes de diagnóstico in vitro, que ajudam a identificar e diagnosticar doenças em pacientes. \n",
        "\n",
        "<center><img alt=\"Colaboratory logo\" width=\"50%\" src=\"https://img.freepik.com/vetores-gratis/medicos-e-analises-prescritivas-personalizadas_335657-1882.jpg?w=996&t=st=1679600253~exp=1679600853~hmac=d153092c815ffbe8596dd2bac6ff070dd25f94ceda3c4dc65e6eba42c18820ae\"></center>\n",
        "\n",
        "Com o avanço das tecnologias de diagnóstico e a crescente conscientização sobre saúde, o mercado de medicina diagnóstica tem experimentado um crescimento significativo nos últimos anos. Essa indústria desempenha um papel crítico no diagnóstico e tratamento de doenças em pacientes, permitindo que os médicos identifiquem e diagnostiquem doenças com maior precisão e eficácia, o que ajuda a melhorar a qualidade dos cuidados de saúde e a reduzir os custos associados ao tratamento. Este mercado é composto por uma variedade de empresas, incluindo grandes corporações globais e empresas locais menores que oferecem serviços personalizados. Este setor é fundamental para o avanço da saúde global e continuará a crescer e evoluir à medida que novas tecnologias de diagnóstico forem desenvolvidas e as demandas de pacientes e profissionais de saúde mudarem."
      ],
      "metadata": {
        "id": "pu7vEktw-jtc"
      }
    },
    {
      "cell_type": "markdown",
      "source": [
        "## **Importação dos pacotes e obtenção dos dados**\n",
        "Inicialmente irei importa as blibiotecas que serão usadas neste projeto e em seguida importarei os dados."
      ],
      "metadata": {
        "id": "iB4RvbvoAGyw"
      }
    },
    {
      "cell_type": "code",
      "execution_count": 1,
      "metadata": {
        "id": "WLHkakcovVgG"
      },
      "outputs": [],
      "source": [
        "#Bibliotecas importadas\n",
        "\n",
        "# Manipulação de dados \n",
        "import pandas as pd\n",
        "import numpy as np\n",
        "\n",
        "# Visualização\n",
        "import matplotlib.pyplot as plt\n",
        "import seaborn as sns\n",
        "import missingno as msno\n",
        "%matplotlib inline \n"
      ]
    },
    {
      "cell_type": "code",
      "source": [
        "# importação dos datasets para seus respectivos DataFrames\n",
        "df_demo = pd.read_csv('/content/drive/MyDrive/Colab Notebooks/Dados /DemographicData_ZCTAs.csv', index_col=0)\n",
        "df_eco = pd.read_csv('/content/drive/MyDrive/Colab Notebooks/Dados /EconomicData_ZCTAs.csv', index_col=0)\n",
        "df_geocod = pd.read_csv('/content/drive/MyDrive/Colab Notebooks/Dados /df_geocode.csv', index_col=0)\n",
        "df_test = pd.read_csv('/content/drive/MyDrive/Colab Notebooks/Dados /test_data.csv')\n",
        "df_tran = pd.read_csv('/content/drive/MyDrive/Colab Notebooks/Dados /transactional_data.csv', sep=';')"
      ],
      "metadata": {
        "id": "3UTNuKm3vixc"
      },
      "execution_count": 2,
      "outputs": []
    },
    {
      "cell_type": "markdown",
      "source": [
        "# **Análise Exploratória dos Dados**\n",
        "\n",
        "Inicialmente a análise exploratória será realizada em duas etapas:\n",
        "*  Limpeza e tratamentos dos dados.\n",
        "*  Análise dos dados com objetivo de identificar os três melhores códigos postais para a instalação de novos laboratórios.\n"
      ],
      "metadata": {
        "id": "D2LYokFo6ayE"
      }
    },
    {
      "cell_type": "markdown",
      "source": [
        "## **Limpeza e tratamento dos dados**\n",
        "\n",
        "Durante esta etapa, serão realizadas análises detalhadas a respeito da qualidade dos dados utilizados, com o intuito de garantir a integridade e confiabilidade das informações. Serão executados procedimentos que visam a remoção de informações duplicadas, correção de possíveis erros e inconsistências, identificação de valores faltantes ou inválidos e análise de possíveis outliers, que podem interferir na análise dos resultados."
      ],
      "metadata": {
        "id": "MZaxgKDk9ZpH"
      }
    },
    {
      "cell_type": "code",
      "source": [
        "# Inicialmente irei verificar o tamanho do dataframe \n",
        "print(f\"Quantidade de linhas: {df_demo.shape[0]}\")\n",
        "print(f\"Quantidade de colunas: {df_demo.shape[1]}\\n\")\n",
        "print('-'*50)\n",
        "\n",
        "# Em seguida irei verificar o tipo dos dados\n",
        "display(df_demo.dtypes)\n",
        "print('-'*50)\n",
        "\n",
        "# Por fim, darei uma olhada nas primeiras entradas do dataframe para ter uma ideia de como está os dados\n",
        "df_demo.head()\n",
        "\n",
        "# Realizarei o mesmo processo para o outros 4 dataframes"
      ],
      "metadata": {
        "id": "9heJNyQM9WOY",
        "colab": {
          "base_uri": "https://localhost:8080/",
          "height": 721
        },
        "outputId": "a52e5c6b-d788-4b0b-e635-059a49222452"
      },
      "execution_count": 3,
      "outputs": [
        {
          "output_type": "stream",
          "name": "stdout",
          "text": [
            "Quantidade de linhas: 33120\n",
            "Quantidade de colunas: 18\n",
            "\n",
            "--------------------------------------------------\n"
          ]
        },
        {
          "output_type": "display_data",
          "data": {
            "text/plain": [
              "Id                                  object\n",
              "GeographicAreaName                  object\n",
              "TotalPopulation                      int64\n",
              "SexRatio(males per 100 females)    float64\n",
              "Population_Under5Years               int64\n",
              "Population_5to9Years                 int64\n",
              "Population_10to14Years               int64\n",
              "Population_15to19Years               int64\n",
              "Population_20to24Years               int64\n",
              "Population_25to34Years               int64\n",
              "Population_35to44Years               int64\n",
              "Population_45to54Years               int64\n",
              "Population_55to59Years               int64\n",
              "Population_60to64Years               int64\n",
              "Population_65to74Years               int64\n",
              "Population_75to84Years               int64\n",
              "Population_85YearsAndOver            int64\n",
              "MedianAgeInYears                   float64\n",
              "dtype: object"
            ]
          },
          "metadata": {}
        },
        {
          "output_type": "stream",
          "name": "stdout",
          "text": [
            "--------------------------------------------------\n"
          ]
        },
        {
          "output_type": "execute_result",
          "data": {
            "text/plain": [
              "               Id GeographicAreaName  TotalPopulation  \\\n",
              "0  8600000US35004        ZCTA5 35004            12045   \n",
              "1  8600000US35005        ZCTA5 35005             7344   \n",
              "2  8600000US35006        ZCTA5 35006             2883   \n",
              "3  8600000US35007        ZCTA5 35007            26332   \n",
              "4  8600000US35010        ZCTA5 35010            20613   \n",
              "\n",
              "   SexRatio(males per 100 females)  Population_Under5Years  \\\n",
              "0                             94.1                     805   \n",
              "1                             86.1                     504   \n",
              "2                            108.2                      96   \n",
              "3                             95.0                    1936   \n",
              "4                             90.5                    1306   \n",
              "\n",
              "   Population_5to9Years  Population_10to14Years  Population_15to19Years  \\\n",
              "0                  1075                     898                     477   \n",
              "1                   453                     511                     499   \n",
              "2                   153                     303                     129   \n",
              "3                  1992                    1837                    1762   \n",
              "4                  1465                     944                    1217   \n",
              "\n",
              "   Population_20to24Years  Population_25to34Years  Population_35to44Years  \\\n",
              "0                     578                    2088                    1628   \n",
              "1                     214                     788                     795   \n",
              "2                     156                     183                     367   \n",
              "3                    1376                    3119                    3849   \n",
              "4                    1128                    2513                    2106   \n",
              "\n",
              "   Population_45to54Years  Population_55to59Years  Population_60to64Years  \\\n",
              "0                    1200                     886                     683   \n",
              "1                     968                     612                     561   \n",
              "2                     430                     296                     260   \n",
              "3                    3907                    1665                    1323   \n",
              "4                    2950                    1512                    1472   \n",
              "\n",
              "   Population_65to74Years  Population_75to84Years  Population_85YearsAndOver  \\\n",
              "0                    1017                     534                        176   \n",
              "1                     798                     485                        156   \n",
              "2                     280                     201                         29   \n",
              "3                    2096                    1106                        364   \n",
              "4                    2421                    1155                        424   \n",
              "\n",
              "   MedianAgeInYears  \n",
              "0              35.5  \n",
              "1              44.0  \n",
              "2              47.2  \n",
              "3              37.7  \n",
              "4              42.6  "
            ],
            "text/html": [
              "\n",
              "  <div id=\"df-c4a0b4f6-f507-4d82-b705-8ddead818718\">\n",
              "    <div class=\"colab-df-container\">\n",
              "      <div>\n",
              "<style scoped>\n",
              "    .dataframe tbody tr th:only-of-type {\n",
              "        vertical-align: middle;\n",
              "    }\n",
              "\n",
              "    .dataframe tbody tr th {\n",
              "        vertical-align: top;\n",
              "    }\n",
              "\n",
              "    .dataframe thead th {\n",
              "        text-align: right;\n",
              "    }\n",
              "</style>\n",
              "<table border=\"1\" class=\"dataframe\">\n",
              "  <thead>\n",
              "    <tr style=\"text-align: right;\">\n",
              "      <th></th>\n",
              "      <th>Id</th>\n",
              "      <th>GeographicAreaName</th>\n",
              "      <th>TotalPopulation</th>\n",
              "      <th>SexRatio(males per 100 females)</th>\n",
              "      <th>Population_Under5Years</th>\n",
              "      <th>Population_5to9Years</th>\n",
              "      <th>Population_10to14Years</th>\n",
              "      <th>Population_15to19Years</th>\n",
              "      <th>Population_20to24Years</th>\n",
              "      <th>Population_25to34Years</th>\n",
              "      <th>Population_35to44Years</th>\n",
              "      <th>Population_45to54Years</th>\n",
              "      <th>Population_55to59Years</th>\n",
              "      <th>Population_60to64Years</th>\n",
              "      <th>Population_65to74Years</th>\n",
              "      <th>Population_75to84Years</th>\n",
              "      <th>Population_85YearsAndOver</th>\n",
              "      <th>MedianAgeInYears</th>\n",
              "    </tr>\n",
              "  </thead>\n",
              "  <tbody>\n",
              "    <tr>\n",
              "      <th>0</th>\n",
              "      <td>8600000US35004</td>\n",
              "      <td>ZCTA5 35004</td>\n",
              "      <td>12045</td>\n",
              "      <td>94.1</td>\n",
              "      <td>805</td>\n",
              "      <td>1075</td>\n",
              "      <td>898</td>\n",
              "      <td>477</td>\n",
              "      <td>578</td>\n",
              "      <td>2088</td>\n",
              "      <td>1628</td>\n",
              "      <td>1200</td>\n",
              "      <td>886</td>\n",
              "      <td>683</td>\n",
              "      <td>1017</td>\n",
              "      <td>534</td>\n",
              "      <td>176</td>\n",
              "      <td>35.5</td>\n",
              "    </tr>\n",
              "    <tr>\n",
              "      <th>1</th>\n",
              "      <td>8600000US35005</td>\n",
              "      <td>ZCTA5 35005</td>\n",
              "      <td>7344</td>\n",
              "      <td>86.1</td>\n",
              "      <td>504</td>\n",
              "      <td>453</td>\n",
              "      <td>511</td>\n",
              "      <td>499</td>\n",
              "      <td>214</td>\n",
              "      <td>788</td>\n",
              "      <td>795</td>\n",
              "      <td>968</td>\n",
              "      <td>612</td>\n",
              "      <td>561</td>\n",
              "      <td>798</td>\n",
              "      <td>485</td>\n",
              "      <td>156</td>\n",
              "      <td>44.0</td>\n",
              "    </tr>\n",
              "    <tr>\n",
              "      <th>2</th>\n",
              "      <td>8600000US35006</td>\n",
              "      <td>ZCTA5 35006</td>\n",
              "      <td>2883</td>\n",
              "      <td>108.2</td>\n",
              "      <td>96</td>\n",
              "      <td>153</td>\n",
              "      <td>303</td>\n",
              "      <td>129</td>\n",
              "      <td>156</td>\n",
              "      <td>183</td>\n",
              "      <td>367</td>\n",
              "      <td>430</td>\n",
              "      <td>296</td>\n",
              "      <td>260</td>\n",
              "      <td>280</td>\n",
              "      <td>201</td>\n",
              "      <td>29</td>\n",
              "      <td>47.2</td>\n",
              "    </tr>\n",
              "    <tr>\n",
              "      <th>3</th>\n",
              "      <td>8600000US35007</td>\n",
              "      <td>ZCTA5 35007</td>\n",
              "      <td>26332</td>\n",
              "      <td>95.0</td>\n",
              "      <td>1936</td>\n",
              "      <td>1992</td>\n",
              "      <td>1837</td>\n",
              "      <td>1762</td>\n",
              "      <td>1376</td>\n",
              "      <td>3119</td>\n",
              "      <td>3849</td>\n",
              "      <td>3907</td>\n",
              "      <td>1665</td>\n",
              "      <td>1323</td>\n",
              "      <td>2096</td>\n",
              "      <td>1106</td>\n",
              "      <td>364</td>\n",
              "      <td>37.7</td>\n",
              "    </tr>\n",
              "    <tr>\n",
              "      <th>4</th>\n",
              "      <td>8600000US35010</td>\n",
              "      <td>ZCTA5 35010</td>\n",
              "      <td>20613</td>\n",
              "      <td>90.5</td>\n",
              "      <td>1306</td>\n",
              "      <td>1465</td>\n",
              "      <td>944</td>\n",
              "      <td>1217</td>\n",
              "      <td>1128</td>\n",
              "      <td>2513</td>\n",
              "      <td>2106</td>\n",
              "      <td>2950</td>\n",
              "      <td>1512</td>\n",
              "      <td>1472</td>\n",
              "      <td>2421</td>\n",
              "      <td>1155</td>\n",
              "      <td>424</td>\n",
              "      <td>42.6</td>\n",
              "    </tr>\n",
              "  </tbody>\n",
              "</table>\n",
              "</div>\n",
              "      <button class=\"colab-df-convert\" onclick=\"convertToInteractive('df-c4a0b4f6-f507-4d82-b705-8ddead818718')\"\n",
              "              title=\"Convert this dataframe to an interactive table.\"\n",
              "              style=\"display:none;\">\n",
              "        \n",
              "  <svg xmlns=\"http://www.w3.org/2000/svg\" height=\"24px\"viewBox=\"0 0 24 24\"\n",
              "       width=\"24px\">\n",
              "    <path d=\"M0 0h24v24H0V0z\" fill=\"none\"/>\n",
              "    <path d=\"M18.56 5.44l.94 2.06.94-2.06 2.06-.94-2.06-.94-.94-2.06-.94 2.06-2.06.94zm-11 1L8.5 8.5l.94-2.06 2.06-.94-2.06-.94L8.5 2.5l-.94 2.06-2.06.94zm10 10l.94 2.06.94-2.06 2.06-.94-2.06-.94-.94-2.06-.94 2.06-2.06.94z\"/><path d=\"M17.41 7.96l-1.37-1.37c-.4-.4-.92-.59-1.43-.59-.52 0-1.04.2-1.43.59L10.3 9.45l-7.72 7.72c-.78.78-.78 2.05 0 2.83L4 21.41c.39.39.9.59 1.41.59.51 0 1.02-.2 1.41-.59l7.78-7.78 2.81-2.81c.8-.78.8-2.07 0-2.86zM5.41 20L4 18.59l7.72-7.72 1.47 1.35L5.41 20z\"/>\n",
              "  </svg>\n",
              "      </button>\n",
              "      \n",
              "  <style>\n",
              "    .colab-df-container {\n",
              "      display:flex;\n",
              "      flex-wrap:wrap;\n",
              "      gap: 12px;\n",
              "    }\n",
              "\n",
              "    .colab-df-convert {\n",
              "      background-color: #E8F0FE;\n",
              "      border: none;\n",
              "      border-radius: 50%;\n",
              "      cursor: pointer;\n",
              "      display: none;\n",
              "      fill: #1967D2;\n",
              "      height: 32px;\n",
              "      padding: 0 0 0 0;\n",
              "      width: 32px;\n",
              "    }\n",
              "\n",
              "    .colab-df-convert:hover {\n",
              "      background-color: #E2EBFA;\n",
              "      box-shadow: 0px 1px 2px rgba(60, 64, 67, 0.3), 0px 1px 3px 1px rgba(60, 64, 67, 0.15);\n",
              "      fill: #174EA6;\n",
              "    }\n",
              "\n",
              "    [theme=dark] .colab-df-convert {\n",
              "      background-color: #3B4455;\n",
              "      fill: #D2E3FC;\n",
              "    }\n",
              "\n",
              "    [theme=dark] .colab-df-convert:hover {\n",
              "      background-color: #434B5C;\n",
              "      box-shadow: 0px 1px 3px 1px rgba(0, 0, 0, 0.15);\n",
              "      filter: drop-shadow(0px 1px 2px rgba(0, 0, 0, 0.3));\n",
              "      fill: #FFFFFF;\n",
              "    }\n",
              "  </style>\n",
              "\n",
              "      <script>\n",
              "        const buttonEl =\n",
              "          document.querySelector('#df-c4a0b4f6-f507-4d82-b705-8ddead818718 button.colab-df-convert');\n",
              "        buttonEl.style.display =\n",
              "          google.colab.kernel.accessAllowed ? 'block' : 'none';\n",
              "\n",
              "        async function convertToInteractive(key) {\n",
              "          const element = document.querySelector('#df-c4a0b4f6-f507-4d82-b705-8ddead818718');\n",
              "          const dataTable =\n",
              "            await google.colab.kernel.invokeFunction('convertToInteractive',\n",
              "                                                     [key], {});\n",
              "          if (!dataTable) return;\n",
              "\n",
              "          const docLinkHtml = 'Like what you see? Visit the ' +\n",
              "            '<a target=\"_blank\" href=https://colab.research.google.com/notebooks/data_table.ipynb>data table notebook</a>'\n",
              "            + ' to learn more about interactive tables.';\n",
              "          element.innerHTML = '';\n",
              "          dataTable['output_type'] = 'display_data';\n",
              "          await google.colab.output.renderOutput(dataTable, element);\n",
              "          const docLink = document.createElement('div');\n",
              "          docLink.innerHTML = docLinkHtml;\n",
              "          element.appendChild(docLink);\n",
              "        }\n",
              "      </script>\n",
              "    </div>\n",
              "  </div>\n",
              "  "
            ]
          },
          "metadata": {},
          "execution_count": 3
        }
      ]
    },
    {
      "cell_type": "code",
      "source": [
        "# Tamanho do dataframe\n",
        "print(f'Quantidade de linhas: {df_eco.shape[0]}')\n",
        "print(f\"Quantidade de colunas: {df_eco.shape[1]}\\n\")\n",
        "print('-'*50)\n",
        "\n",
        "# Tipo dos dados\n",
        "display(df_eco.dtypes)\n",
        "print('-'*50)\n",
        "\n",
        "# Primeiras entradas do dataframe\n",
        "df_eco.head()"
      ],
      "metadata": {
        "colab": {
          "base_uri": "https://localhost:8080/",
          "height": 686
        },
        "id": "0q-Ec2W2A5H_",
        "outputId": "d5d7b6bf-6c81-42bd-c80a-121866ff3ae0"
      },
      "execution_count": 4,
      "outputs": [
        {
          "output_type": "stream",
          "name": "stdout",
          "text": [
            "Quantidade de linhas: 629280\n",
            "Quantidade de colunas: 12\n",
            "\n",
            "--------------------------------------------------\n"
          ]
        },
        {
          "output_type": "display_data",
          "data": {
            "text/plain": [
              "id                                    object\n",
              "Geographic Area Name                  object\n",
              "TotalHouseholds_LessThan$10.000        int64\n",
              "TotalHouseholds_$10.000to$14.999       int64\n",
              "TotalHouseholds_$15.000to$24.999       int64\n",
              "TotalHouseholds_$25.000to$34.999       int64\n",
              "TotalHouseholds_$35.000to$49.999       int64\n",
              "TotalHouseholds_$50.000to$74.999       int64\n",
              "TotalHouseholds_$75.000to$99.999       int64\n",
              "TotalHouseholds_$100.000to$149.999     int64\n",
              "TotalHouseholds_$150.000to$199.999     int64\n",
              "TotalHouseholds_$200.000OrMore         int64\n",
              "dtype: object"
            ]
          },
          "metadata": {}
        },
        {
          "output_type": "stream",
          "name": "stdout",
          "text": [
            "--------------------------------------------------\n"
          ]
        },
        {
          "output_type": "execute_result",
          "data": {
            "text/plain": [
              "               id Geographic Area Name  TotalHouseholds_LessThan$10.000  \\\n",
              "0  8600000US35004          ZCTA5 35004                              198   \n",
              "1  8600000US35005          ZCTA5 35005                              188   \n",
              "2  8600000US35006          ZCTA5 35006                               71   \n",
              "3  8600000US35007          ZCTA5 35007                              396   \n",
              "4  8600000US35010          ZCTA5 35010                              700   \n",
              "\n",
              "   TotalHouseholds_$10.000to$14.999  TotalHouseholds_$15.000to$24.999  \\\n",
              "0                                71                               298   \n",
              "1                               184                               318   \n",
              "2                                20                               117   \n",
              "3                               208                               670   \n",
              "4                               610                              1093   \n",
              "\n",
              "   TotalHouseholds_$25.000to$34.999  TotalHouseholds_$35.000to$49.999  \\\n",
              "0                               513                               647   \n",
              "1                               293                               353   \n",
              "2                               104                               154   \n",
              "3                               462                              1173   \n",
              "4                               957                              1056   \n",
              "\n",
              "   TotalHouseholds_$50.000to$74.999  TotalHouseholds_$75.000to$99.999  \\\n",
              "0                              1117                               529   \n",
              "1                               562                               299   \n",
              "2                               176                               124   \n",
              "3                              1854                              1578   \n",
              "4                              1512                               807   \n",
              "\n",
              "   TotalHouseholds_$100.000to$149.999  TotalHouseholds_$150.000to$199.999  \\\n",
              "0                                 945                                 245   \n",
              "1                                 407                                  67   \n",
              "2                                 194                                  51   \n",
              "3                                2224                                 473   \n",
              "4                                 749                                 254   \n",
              "\n",
              "   TotalHouseholds_$200.000OrMore  \n",
              "0                              61  \n",
              "1                              26  \n",
              "2                               7  \n",
              "3                             254  \n",
              "4                             249  "
            ],
            "text/html": [
              "\n",
              "  <div id=\"df-0fb0d049-dcb4-4a07-bc99-98b2da20213a\">\n",
              "    <div class=\"colab-df-container\">\n",
              "      <div>\n",
              "<style scoped>\n",
              "    .dataframe tbody tr th:only-of-type {\n",
              "        vertical-align: middle;\n",
              "    }\n",
              "\n",
              "    .dataframe tbody tr th {\n",
              "        vertical-align: top;\n",
              "    }\n",
              "\n",
              "    .dataframe thead th {\n",
              "        text-align: right;\n",
              "    }\n",
              "</style>\n",
              "<table border=\"1\" class=\"dataframe\">\n",
              "  <thead>\n",
              "    <tr style=\"text-align: right;\">\n",
              "      <th></th>\n",
              "      <th>id</th>\n",
              "      <th>Geographic Area Name</th>\n",
              "      <th>TotalHouseholds_LessThan$10.000</th>\n",
              "      <th>TotalHouseholds_$10.000to$14.999</th>\n",
              "      <th>TotalHouseholds_$15.000to$24.999</th>\n",
              "      <th>TotalHouseholds_$25.000to$34.999</th>\n",
              "      <th>TotalHouseholds_$35.000to$49.999</th>\n",
              "      <th>TotalHouseholds_$50.000to$74.999</th>\n",
              "      <th>TotalHouseholds_$75.000to$99.999</th>\n",
              "      <th>TotalHouseholds_$100.000to$149.999</th>\n",
              "      <th>TotalHouseholds_$150.000to$199.999</th>\n",
              "      <th>TotalHouseholds_$200.000OrMore</th>\n",
              "    </tr>\n",
              "  </thead>\n",
              "  <tbody>\n",
              "    <tr>\n",
              "      <th>0</th>\n",
              "      <td>8600000US35004</td>\n",
              "      <td>ZCTA5 35004</td>\n",
              "      <td>198</td>\n",
              "      <td>71</td>\n",
              "      <td>298</td>\n",
              "      <td>513</td>\n",
              "      <td>647</td>\n",
              "      <td>1117</td>\n",
              "      <td>529</td>\n",
              "      <td>945</td>\n",
              "      <td>245</td>\n",
              "      <td>61</td>\n",
              "    </tr>\n",
              "    <tr>\n",
              "      <th>1</th>\n",
              "      <td>8600000US35005</td>\n",
              "      <td>ZCTA5 35005</td>\n",
              "      <td>188</td>\n",
              "      <td>184</td>\n",
              "      <td>318</td>\n",
              "      <td>293</td>\n",
              "      <td>353</td>\n",
              "      <td>562</td>\n",
              "      <td>299</td>\n",
              "      <td>407</td>\n",
              "      <td>67</td>\n",
              "      <td>26</td>\n",
              "    </tr>\n",
              "    <tr>\n",
              "      <th>2</th>\n",
              "      <td>8600000US35006</td>\n",
              "      <td>ZCTA5 35006</td>\n",
              "      <td>71</td>\n",
              "      <td>20</td>\n",
              "      <td>117</td>\n",
              "      <td>104</td>\n",
              "      <td>154</td>\n",
              "      <td>176</td>\n",
              "      <td>124</td>\n",
              "      <td>194</td>\n",
              "      <td>51</td>\n",
              "      <td>7</td>\n",
              "    </tr>\n",
              "    <tr>\n",
              "      <th>3</th>\n",
              "      <td>8600000US35007</td>\n",
              "      <td>ZCTA5 35007</td>\n",
              "      <td>396</td>\n",
              "      <td>208</td>\n",
              "      <td>670</td>\n",
              "      <td>462</td>\n",
              "      <td>1173</td>\n",
              "      <td>1854</td>\n",
              "      <td>1578</td>\n",
              "      <td>2224</td>\n",
              "      <td>473</td>\n",
              "      <td>254</td>\n",
              "    </tr>\n",
              "    <tr>\n",
              "      <th>4</th>\n",
              "      <td>8600000US35010</td>\n",
              "      <td>ZCTA5 35010</td>\n",
              "      <td>700</td>\n",
              "      <td>610</td>\n",
              "      <td>1093</td>\n",
              "      <td>957</td>\n",
              "      <td>1056</td>\n",
              "      <td>1512</td>\n",
              "      <td>807</td>\n",
              "      <td>749</td>\n",
              "      <td>254</td>\n",
              "      <td>249</td>\n",
              "    </tr>\n",
              "  </tbody>\n",
              "</table>\n",
              "</div>\n",
              "      <button class=\"colab-df-convert\" onclick=\"convertToInteractive('df-0fb0d049-dcb4-4a07-bc99-98b2da20213a')\"\n",
              "              title=\"Convert this dataframe to an interactive table.\"\n",
              "              style=\"display:none;\">\n",
              "        \n",
              "  <svg xmlns=\"http://www.w3.org/2000/svg\" height=\"24px\"viewBox=\"0 0 24 24\"\n",
              "       width=\"24px\">\n",
              "    <path d=\"M0 0h24v24H0V0z\" fill=\"none\"/>\n",
              "    <path d=\"M18.56 5.44l.94 2.06.94-2.06 2.06-.94-2.06-.94-.94-2.06-.94 2.06-2.06.94zm-11 1L8.5 8.5l.94-2.06 2.06-.94-2.06-.94L8.5 2.5l-.94 2.06-2.06.94zm10 10l.94 2.06.94-2.06 2.06-.94-2.06-.94-.94-2.06-.94 2.06-2.06.94z\"/><path d=\"M17.41 7.96l-1.37-1.37c-.4-.4-.92-.59-1.43-.59-.52 0-1.04.2-1.43.59L10.3 9.45l-7.72 7.72c-.78.78-.78 2.05 0 2.83L4 21.41c.39.39.9.59 1.41.59.51 0 1.02-.2 1.41-.59l7.78-7.78 2.81-2.81c.8-.78.8-2.07 0-2.86zM5.41 20L4 18.59l7.72-7.72 1.47 1.35L5.41 20z\"/>\n",
              "  </svg>\n",
              "      </button>\n",
              "      \n",
              "  <style>\n",
              "    .colab-df-container {\n",
              "      display:flex;\n",
              "      flex-wrap:wrap;\n",
              "      gap: 12px;\n",
              "    }\n",
              "\n",
              "    .colab-df-convert {\n",
              "      background-color: #E8F0FE;\n",
              "      border: none;\n",
              "      border-radius: 50%;\n",
              "      cursor: pointer;\n",
              "      display: none;\n",
              "      fill: #1967D2;\n",
              "      height: 32px;\n",
              "      padding: 0 0 0 0;\n",
              "      width: 32px;\n",
              "    }\n",
              "\n",
              "    .colab-df-convert:hover {\n",
              "      background-color: #E2EBFA;\n",
              "      box-shadow: 0px 1px 2px rgba(60, 64, 67, 0.3), 0px 1px 3px 1px rgba(60, 64, 67, 0.15);\n",
              "      fill: #174EA6;\n",
              "    }\n",
              "\n",
              "    [theme=dark] .colab-df-convert {\n",
              "      background-color: #3B4455;\n",
              "      fill: #D2E3FC;\n",
              "    }\n",
              "\n",
              "    [theme=dark] .colab-df-convert:hover {\n",
              "      background-color: #434B5C;\n",
              "      box-shadow: 0px 1px 3px 1px rgba(0, 0, 0, 0.15);\n",
              "      filter: drop-shadow(0px 1px 2px rgba(0, 0, 0, 0.3));\n",
              "      fill: #FFFFFF;\n",
              "    }\n",
              "  </style>\n",
              "\n",
              "      <script>\n",
              "        const buttonEl =\n",
              "          document.querySelector('#df-0fb0d049-dcb4-4a07-bc99-98b2da20213a button.colab-df-convert');\n",
              "        buttonEl.style.display =\n",
              "          google.colab.kernel.accessAllowed ? 'block' : 'none';\n",
              "\n",
              "        async function convertToInteractive(key) {\n",
              "          const element = document.querySelector('#df-0fb0d049-dcb4-4a07-bc99-98b2da20213a');\n",
              "          const dataTable =\n",
              "            await google.colab.kernel.invokeFunction('convertToInteractive',\n",
              "                                                     [key], {});\n",
              "          if (!dataTable) return;\n",
              "\n",
              "          const docLinkHtml = 'Like what you see? Visit the ' +\n",
              "            '<a target=\"_blank\" href=https://colab.research.google.com/notebooks/data_table.ipynb>data table notebook</a>'\n",
              "            + ' to learn more about interactive tables.';\n",
              "          element.innerHTML = '';\n",
              "          dataTable['output_type'] = 'display_data';\n",
              "          await google.colab.output.renderOutput(dataTable, element);\n",
              "          const docLink = document.createElement('div');\n",
              "          docLink.innerHTML = docLinkHtml;\n",
              "          element.appendChild(docLink);\n",
              "        }\n",
              "      </script>\n",
              "    </div>\n",
              "  </div>\n",
              "  "
            ]
          },
          "metadata": {},
          "execution_count": 4
        }
      ]
    },
    {
      "cell_type": "code",
      "source": [
        "# Tamanho do dataframe\n",
        "print(f'Quantidade de linhas: {df_geocod.shape[0]}')\n",
        "print(f\"Quantidade de colunas: {df_geocod.shape[1]}\\n\")\n",
        "print('-'*40)\n",
        "\n",
        "# Tipo dos dados\n",
        "display(df_geocod.dtypes)\n",
        "print('-'*40)\n",
        "\n",
        "# Primeiras entradas do dataframe\n",
        "df_geocod.head()"
      ],
      "metadata": {
        "colab": {
          "base_uri": "https://localhost:8080/",
          "height": 379
        },
        "id": "JXfqeXaYBKz3",
        "outputId": "bc3a6c5a-b8dc-45ca-ebc0-e405c53b7ae8"
      },
      "execution_count": 5,
      "outputs": [
        {
          "output_type": "stream",
          "name": "stdout",
          "text": [
            "Quantidade de linhas: 119\n",
            "Quantidade de colunas: 4\n",
            "\n",
            "----------------------------------------\n"
          ]
        },
        {
          "output_type": "display_data",
          "data": {
            "text/plain": [
              "Lab Id       object\n",
              "Address      object\n",
              "Location     object\n",
              "Zipcode     float64\n",
              "dtype: object"
            ]
          },
          "metadata": {}
        },
        {
          "output_type": "stream",
          "name": "stdout",
          "text": [
            "----------------------------------------\n"
          ]
        },
        {
          "output_type": "execute_result",
          "data": {
            "text/plain": [
              "  Lab Id                                            Address  \\\n",
              "0   L152      3800 PLEASANT HILL RD STE 1, DULUTH, GA 30096   \n",
              "1   L520                    1614 N JAMES ST, ROME, NY 13440   \n",
              "2   L141     12911 120TH AVE NE STE D60, KIRKLAND, WA 98034   \n",
              "3   L524  5667 PEACHTREE DUNWOODY RD 250, ATLANTA, GA 30342   \n",
              "4   L545                 1204 IL HWY 164, OQUAWKA, IL 61469   \n",
              "\n",
              "                  Location  Zipcode  \n",
              "0    34.000319,-84.1629724  30096.0  \n",
              "1   43.2311327,-75.4445363  13440.0  \n",
              "2  47.7162786,-122.1838152  98034.0  \n",
              "3   33.9093875,-84.3529096  30342.0  \n",
              "4   40.9309925,-90.9437598  61469.0  "
            ],
            "text/html": [
              "\n",
              "  <div id=\"df-7b4f8dcf-0774-4a7c-9141-4905e610f49e\">\n",
              "    <div class=\"colab-df-container\">\n",
              "      <div>\n",
              "<style scoped>\n",
              "    .dataframe tbody tr th:only-of-type {\n",
              "        vertical-align: middle;\n",
              "    }\n",
              "\n",
              "    .dataframe tbody tr th {\n",
              "        vertical-align: top;\n",
              "    }\n",
              "\n",
              "    .dataframe thead th {\n",
              "        text-align: right;\n",
              "    }\n",
              "</style>\n",
              "<table border=\"1\" class=\"dataframe\">\n",
              "  <thead>\n",
              "    <tr style=\"text-align: right;\">\n",
              "      <th></th>\n",
              "      <th>Lab Id</th>\n",
              "      <th>Address</th>\n",
              "      <th>Location</th>\n",
              "      <th>Zipcode</th>\n",
              "    </tr>\n",
              "  </thead>\n",
              "  <tbody>\n",
              "    <tr>\n",
              "      <th>0</th>\n",
              "      <td>L152</td>\n",
              "      <td>3800 PLEASANT HILL RD STE 1, DULUTH, GA 30096</td>\n",
              "      <td>34.000319,-84.1629724</td>\n",
              "      <td>30096.0</td>\n",
              "    </tr>\n",
              "    <tr>\n",
              "      <th>1</th>\n",
              "      <td>L520</td>\n",
              "      <td>1614 N JAMES ST, ROME, NY 13440</td>\n",
              "      <td>43.2311327,-75.4445363</td>\n",
              "      <td>13440.0</td>\n",
              "    </tr>\n",
              "    <tr>\n",
              "      <th>2</th>\n",
              "      <td>L141</td>\n",
              "      <td>12911 120TH AVE NE STE D60, KIRKLAND, WA 98034</td>\n",
              "      <td>47.7162786,-122.1838152</td>\n",
              "      <td>98034.0</td>\n",
              "    </tr>\n",
              "    <tr>\n",
              "      <th>3</th>\n",
              "      <td>L524</td>\n",
              "      <td>5667 PEACHTREE DUNWOODY RD 250, ATLANTA, GA 30342</td>\n",
              "      <td>33.9093875,-84.3529096</td>\n",
              "      <td>30342.0</td>\n",
              "    </tr>\n",
              "    <tr>\n",
              "      <th>4</th>\n",
              "      <td>L545</td>\n",
              "      <td>1204 IL HWY 164, OQUAWKA, IL 61469</td>\n",
              "      <td>40.9309925,-90.9437598</td>\n",
              "      <td>61469.0</td>\n",
              "    </tr>\n",
              "  </tbody>\n",
              "</table>\n",
              "</div>\n",
              "      <button class=\"colab-df-convert\" onclick=\"convertToInteractive('df-7b4f8dcf-0774-4a7c-9141-4905e610f49e')\"\n",
              "              title=\"Convert this dataframe to an interactive table.\"\n",
              "              style=\"display:none;\">\n",
              "        \n",
              "  <svg xmlns=\"http://www.w3.org/2000/svg\" height=\"24px\"viewBox=\"0 0 24 24\"\n",
              "       width=\"24px\">\n",
              "    <path d=\"M0 0h24v24H0V0z\" fill=\"none\"/>\n",
              "    <path d=\"M18.56 5.44l.94 2.06.94-2.06 2.06-.94-2.06-.94-.94-2.06-.94 2.06-2.06.94zm-11 1L8.5 8.5l.94-2.06 2.06-.94-2.06-.94L8.5 2.5l-.94 2.06-2.06.94zm10 10l.94 2.06.94-2.06 2.06-.94-2.06-.94-.94-2.06-.94 2.06-2.06.94z\"/><path d=\"M17.41 7.96l-1.37-1.37c-.4-.4-.92-.59-1.43-.59-.52 0-1.04.2-1.43.59L10.3 9.45l-7.72 7.72c-.78.78-.78 2.05 0 2.83L4 21.41c.39.39.9.59 1.41.59.51 0 1.02-.2 1.41-.59l7.78-7.78 2.81-2.81c.8-.78.8-2.07 0-2.86zM5.41 20L4 18.59l7.72-7.72 1.47 1.35L5.41 20z\"/>\n",
              "  </svg>\n",
              "      </button>\n",
              "      \n",
              "  <style>\n",
              "    .colab-df-container {\n",
              "      display:flex;\n",
              "      flex-wrap:wrap;\n",
              "      gap: 12px;\n",
              "    }\n",
              "\n",
              "    .colab-df-convert {\n",
              "      background-color: #E8F0FE;\n",
              "      border: none;\n",
              "      border-radius: 50%;\n",
              "      cursor: pointer;\n",
              "      display: none;\n",
              "      fill: #1967D2;\n",
              "      height: 32px;\n",
              "      padding: 0 0 0 0;\n",
              "      width: 32px;\n",
              "    }\n",
              "\n",
              "    .colab-df-convert:hover {\n",
              "      background-color: #E2EBFA;\n",
              "      box-shadow: 0px 1px 2px rgba(60, 64, 67, 0.3), 0px 1px 3px 1px rgba(60, 64, 67, 0.15);\n",
              "      fill: #174EA6;\n",
              "    }\n",
              "\n",
              "    [theme=dark] .colab-df-convert {\n",
              "      background-color: #3B4455;\n",
              "      fill: #D2E3FC;\n",
              "    }\n",
              "\n",
              "    [theme=dark] .colab-df-convert:hover {\n",
              "      background-color: #434B5C;\n",
              "      box-shadow: 0px 1px 3px 1px rgba(0, 0, 0, 0.15);\n",
              "      filter: drop-shadow(0px 1px 2px rgba(0, 0, 0, 0.3));\n",
              "      fill: #FFFFFF;\n",
              "    }\n",
              "  </style>\n",
              "\n",
              "      <script>\n",
              "        const buttonEl =\n",
              "          document.querySelector('#df-7b4f8dcf-0774-4a7c-9141-4905e610f49e button.colab-df-convert');\n",
              "        buttonEl.style.display =\n",
              "          google.colab.kernel.accessAllowed ? 'block' : 'none';\n",
              "\n",
              "        async function convertToInteractive(key) {\n",
              "          const element = document.querySelector('#df-7b4f8dcf-0774-4a7c-9141-4905e610f49e');\n",
              "          const dataTable =\n",
              "            await google.colab.kernel.invokeFunction('convertToInteractive',\n",
              "                                                     [key], {});\n",
              "          if (!dataTable) return;\n",
              "\n",
              "          const docLinkHtml = 'Like what you see? Visit the ' +\n",
              "            '<a target=\"_blank\" href=https://colab.research.google.com/notebooks/data_table.ipynb>data table notebook</a>'\n",
              "            + ' to learn more about interactive tables.';\n",
              "          element.innerHTML = '';\n",
              "          dataTable['output_type'] = 'display_data';\n",
              "          await google.colab.output.renderOutput(dataTable, element);\n",
              "          const docLink = document.createElement('div');\n",
              "          docLink.innerHTML = docLinkHtml;\n",
              "          element.appendChild(docLink);\n",
              "        }\n",
              "      </script>\n",
              "    </div>\n",
              "  </div>\n",
              "  "
            ]
          },
          "metadata": {},
          "execution_count": 5
        }
      ]
    },
    {
      "cell_type": "code",
      "source": [
        "# Tamanho do dataframe\n",
        "print(f'Quantidade de linhas: {df_test.shape[0]}')\n",
        "print(f\"Quantidade de colunas: {df_test.shape[1]}\\n\")\n",
        "print('-'*40)\n",
        "\n",
        "# Tipo dos dados\n",
        "display(df_test.dtypes)\n",
        "print('-'*40)\n",
        "\n",
        "# Primeiras entradas do dataframe\n",
        "df_test.head()"
      ],
      "metadata": {
        "colab": {
          "base_uri": "https://localhost:8080/",
          "height": 414
        },
        "id": "25JACJlrBPNO",
        "outputId": "7a74d718-110d-4db5-9887-5ef94226826e"
      },
      "execution_count": 6,
      "outputs": [
        {
          "output_type": "stream",
          "name": "stdout",
          "text": [
            "Quantidade de linhas: 2002\n",
            "Quantidade de colunas: 6\n",
            "\n",
            "----------------------------------------\n"
          ]
        },
        {
          "output_type": "display_data",
          "data": {
            "text/plain": [
              "CodItem           int64\n",
              "Desc Item        object\n",
              "Category         object\n",
              "Family           object\n",
              "Speciality       object\n",
              "Testing Cost    float64\n",
              "dtype: object"
            ]
          },
          "metadata": {}
        },
        {
          "output_type": "stream",
          "name": "stdout",
          "text": [
            "----------------------------------------\n"
          ]
        },
        {
          "output_type": "execute_result",
          "data": {
            "text/plain": [
              "    CodItem                                          Desc Item Category  \\\n",
              "0  70003237  MAGNESIO, SORO (EXEMPLO DE EXPRESSAO DE RESULT...       CA   \n",
              "1  70000638                    HEMOGRAMA, AUTOMATIZADO, SANGUE       CA   \n",
              "2  70001597                                    FERRITINA, SORO       CA   \n",
              "3  70000103  FERRO, DOSAGEM, SORO (EXEMPLO DE EXPRESSAO DE ...       CA   \n",
              "4  70000224  CALCIO, DOSAGEM, SORO (EXEMPLO DE EXPRESSAO DE...       CA   \n",
              "\n",
              "    Family     Speciality  Testing Cost  \n",
              "0  CORELAB   BIOCHEMISTRY          1.78  \n",
              "1   HEMATO    BLOOD COUNT          2.46  \n",
              "2  CORELAB  IMMUNOHORMONE          2.11  \n",
              "3  CORELAB   BIOCHEMISTRY          0.80  \n",
              "4  CORELAB   BIOCHEMISTRY          1.02  "
            ],
            "text/html": [
              "\n",
              "  <div id=\"df-9dceee46-e7a1-47b2-a543-f9c443d50ef1\">\n",
              "    <div class=\"colab-df-container\">\n",
              "      <div>\n",
              "<style scoped>\n",
              "    .dataframe tbody tr th:only-of-type {\n",
              "        vertical-align: middle;\n",
              "    }\n",
              "\n",
              "    .dataframe tbody tr th {\n",
              "        vertical-align: top;\n",
              "    }\n",
              "\n",
              "    .dataframe thead th {\n",
              "        text-align: right;\n",
              "    }\n",
              "</style>\n",
              "<table border=\"1\" class=\"dataframe\">\n",
              "  <thead>\n",
              "    <tr style=\"text-align: right;\">\n",
              "      <th></th>\n",
              "      <th>CodItem</th>\n",
              "      <th>Desc Item</th>\n",
              "      <th>Category</th>\n",
              "      <th>Family</th>\n",
              "      <th>Speciality</th>\n",
              "      <th>Testing Cost</th>\n",
              "    </tr>\n",
              "  </thead>\n",
              "  <tbody>\n",
              "    <tr>\n",
              "      <th>0</th>\n",
              "      <td>70003237</td>\n",
              "      <td>MAGNESIO, SORO (EXEMPLO DE EXPRESSAO DE RESULT...</td>\n",
              "      <td>CA</td>\n",
              "      <td>CORELAB</td>\n",
              "      <td>BIOCHEMISTRY</td>\n",
              "      <td>1.78</td>\n",
              "    </tr>\n",
              "    <tr>\n",
              "      <th>1</th>\n",
              "      <td>70000638</td>\n",
              "      <td>HEMOGRAMA, AUTOMATIZADO, SANGUE</td>\n",
              "      <td>CA</td>\n",
              "      <td>HEMATO</td>\n",
              "      <td>BLOOD COUNT</td>\n",
              "      <td>2.46</td>\n",
              "    </tr>\n",
              "    <tr>\n",
              "      <th>2</th>\n",
              "      <td>70001597</td>\n",
              "      <td>FERRITINA, SORO</td>\n",
              "      <td>CA</td>\n",
              "      <td>CORELAB</td>\n",
              "      <td>IMMUNOHORMONE</td>\n",
              "      <td>2.11</td>\n",
              "    </tr>\n",
              "    <tr>\n",
              "      <th>3</th>\n",
              "      <td>70000103</td>\n",
              "      <td>FERRO, DOSAGEM, SORO (EXEMPLO DE EXPRESSAO DE ...</td>\n",
              "      <td>CA</td>\n",
              "      <td>CORELAB</td>\n",
              "      <td>BIOCHEMISTRY</td>\n",
              "      <td>0.80</td>\n",
              "    </tr>\n",
              "    <tr>\n",
              "      <th>4</th>\n",
              "      <td>70000224</td>\n",
              "      <td>CALCIO, DOSAGEM, SORO (EXEMPLO DE EXPRESSAO DE...</td>\n",
              "      <td>CA</td>\n",
              "      <td>CORELAB</td>\n",
              "      <td>BIOCHEMISTRY</td>\n",
              "      <td>1.02</td>\n",
              "    </tr>\n",
              "  </tbody>\n",
              "</table>\n",
              "</div>\n",
              "      <button class=\"colab-df-convert\" onclick=\"convertToInteractive('df-9dceee46-e7a1-47b2-a543-f9c443d50ef1')\"\n",
              "              title=\"Convert this dataframe to an interactive table.\"\n",
              "              style=\"display:none;\">\n",
              "        \n",
              "  <svg xmlns=\"http://www.w3.org/2000/svg\" height=\"24px\"viewBox=\"0 0 24 24\"\n",
              "       width=\"24px\">\n",
              "    <path d=\"M0 0h24v24H0V0z\" fill=\"none\"/>\n",
              "    <path d=\"M18.56 5.44l.94 2.06.94-2.06 2.06-.94-2.06-.94-.94-2.06-.94 2.06-2.06.94zm-11 1L8.5 8.5l.94-2.06 2.06-.94-2.06-.94L8.5 2.5l-.94 2.06-2.06.94zm10 10l.94 2.06.94-2.06 2.06-.94-2.06-.94-.94-2.06-.94 2.06-2.06.94z\"/><path d=\"M17.41 7.96l-1.37-1.37c-.4-.4-.92-.59-1.43-.59-.52 0-1.04.2-1.43.59L10.3 9.45l-7.72 7.72c-.78.78-.78 2.05 0 2.83L4 21.41c.39.39.9.59 1.41.59.51 0 1.02-.2 1.41-.59l7.78-7.78 2.81-2.81c.8-.78.8-2.07 0-2.86zM5.41 20L4 18.59l7.72-7.72 1.47 1.35L5.41 20z\"/>\n",
              "  </svg>\n",
              "      </button>\n",
              "      \n",
              "  <style>\n",
              "    .colab-df-container {\n",
              "      display:flex;\n",
              "      flex-wrap:wrap;\n",
              "      gap: 12px;\n",
              "    }\n",
              "\n",
              "    .colab-df-convert {\n",
              "      background-color: #E8F0FE;\n",
              "      border: none;\n",
              "      border-radius: 50%;\n",
              "      cursor: pointer;\n",
              "      display: none;\n",
              "      fill: #1967D2;\n",
              "      height: 32px;\n",
              "      padding: 0 0 0 0;\n",
              "      width: 32px;\n",
              "    }\n",
              "\n",
              "    .colab-df-convert:hover {\n",
              "      background-color: #E2EBFA;\n",
              "      box-shadow: 0px 1px 2px rgba(60, 64, 67, 0.3), 0px 1px 3px 1px rgba(60, 64, 67, 0.15);\n",
              "      fill: #174EA6;\n",
              "    }\n",
              "\n",
              "    [theme=dark] .colab-df-convert {\n",
              "      background-color: #3B4455;\n",
              "      fill: #D2E3FC;\n",
              "    }\n",
              "\n",
              "    [theme=dark] .colab-df-convert:hover {\n",
              "      background-color: #434B5C;\n",
              "      box-shadow: 0px 1px 3px 1px rgba(0, 0, 0, 0.15);\n",
              "      filter: drop-shadow(0px 1px 2px rgba(0, 0, 0, 0.3));\n",
              "      fill: #FFFFFF;\n",
              "    }\n",
              "  </style>\n",
              "\n",
              "      <script>\n",
              "        const buttonEl =\n",
              "          document.querySelector('#df-9dceee46-e7a1-47b2-a543-f9c443d50ef1 button.colab-df-convert');\n",
              "        buttonEl.style.display =\n",
              "          google.colab.kernel.accessAllowed ? 'block' : 'none';\n",
              "\n",
              "        async function convertToInteractive(key) {\n",
              "          const element = document.querySelector('#df-9dceee46-e7a1-47b2-a543-f9c443d50ef1');\n",
              "          const dataTable =\n",
              "            await google.colab.kernel.invokeFunction('convertToInteractive',\n",
              "                                                     [key], {});\n",
              "          if (!dataTable) return;\n",
              "\n",
              "          const docLinkHtml = 'Like what you see? Visit the ' +\n",
              "            '<a target=\"_blank\" href=https://colab.research.google.com/notebooks/data_table.ipynb>data table notebook</a>'\n",
              "            + ' to learn more about interactive tables.';\n",
              "          element.innerHTML = '';\n",
              "          dataTable['output_type'] = 'display_data';\n",
              "          await google.colab.output.renderOutput(dataTable, element);\n",
              "          const docLink = document.createElement('div');\n",
              "          docLink.innerHTML = docLinkHtml;\n",
              "          element.appendChild(docLink);\n",
              "        }\n",
              "      </script>\n",
              "    </div>\n",
              "  </div>\n",
              "  "
            ]
          },
          "metadata": {},
          "execution_count": 6
        }
      ]
    },
    {
      "cell_type": "code",
      "source": [
        "# Tamanho do dataframe\n",
        "print(f'Quantidade de linhas: {df_tran.shape[0]}')\n",
        "print(f\"Quantidade de colunas: {df_tran.shape[1]}\\n\")\n",
        "print('-'*40)\n",
        "\n",
        "# Tipo dos dados\n",
        "display(df_tran.dtypes)\n",
        "print('-'*40)\n",
        "\n",
        "# Primeiras entradas do dataframe\n",
        "df_tran.head()"
      ],
      "metadata": {
        "colab": {
          "base_uri": "https://localhost:8080/",
          "height": 449
        },
        "id": "hGnkY_cKBSJv",
        "outputId": "ff24e373-f166-4f68-9ed0-40ae54107c45"
      },
      "execution_count": 7,
      "outputs": [
        {
          "output_type": "stream",
          "name": "stdout",
          "text": [
            "Quantidade de linhas: 2355241\n",
            "Quantidade de colunas: 8\n",
            "\n",
            "----------------------------------------\n"
          ]
        },
        {
          "output_type": "display_data",
          "data": {
            "text/plain": [
              "Patient Id         object\n",
              "Gender             object\n",
              "Date of birth      object\n",
              "Date of service    object\n",
              "Service Id         object\n",
              "Lab Id             object\n",
              "CodItem             int64\n",
              "Testing Cost       object\n",
              "dtype: object"
            ]
          },
          "metadata": {}
        },
        {
          "output_type": "stream",
          "name": "stdout",
          "text": [
            "----------------------------------------\n"
          ]
        },
        {
          "output_type": "execute_result",
          "data": {
            "text/plain": [
              "           Patient Id Gender        Date of birth Date of service  \\\n",
              "0  10210830256-BIO003      F  01/08/1976 00:00:00      2019-01-07   \n",
              "1  10210830256-BIO003      F  01/08/1976 00:00:00      2019-01-07   \n",
              "2  10210830256-BIO003      F  01/08/1976 00:00:00      2019-01-07   \n",
              "3  10210830256-BIO003      F  01/08/1976 00:00:00      2019-01-07   \n",
              "4  10210830256-BIO003      F  01/08/1976 00:00:00      2019-01-07   \n",
              "\n",
              "        Service Id Lab Id   CodItem Testing Cost  \n",
              "0  571904533475-38   L133  70003237          9,0  \n",
              "1  571904533475-38   L133  70000638         13,0  \n",
              "2  571904533475-38   L133  70001597         49,0  \n",
              "3  571904533475-38   L133  70000103         11,0  \n",
              "4  571904533475-38   L133  70000224         10,0  "
            ],
            "text/html": [
              "\n",
              "  <div id=\"df-04f8b0e0-5892-48ed-ae2d-cac54dc1ad54\">\n",
              "    <div class=\"colab-df-container\">\n",
              "      <div>\n",
              "<style scoped>\n",
              "    .dataframe tbody tr th:only-of-type {\n",
              "        vertical-align: middle;\n",
              "    }\n",
              "\n",
              "    .dataframe tbody tr th {\n",
              "        vertical-align: top;\n",
              "    }\n",
              "\n",
              "    .dataframe thead th {\n",
              "        text-align: right;\n",
              "    }\n",
              "</style>\n",
              "<table border=\"1\" class=\"dataframe\">\n",
              "  <thead>\n",
              "    <tr style=\"text-align: right;\">\n",
              "      <th></th>\n",
              "      <th>Patient Id</th>\n",
              "      <th>Gender</th>\n",
              "      <th>Date of birth</th>\n",
              "      <th>Date of service</th>\n",
              "      <th>Service Id</th>\n",
              "      <th>Lab Id</th>\n",
              "      <th>CodItem</th>\n",
              "      <th>Testing Cost</th>\n",
              "    </tr>\n",
              "  </thead>\n",
              "  <tbody>\n",
              "    <tr>\n",
              "      <th>0</th>\n",
              "      <td>10210830256-BIO003</td>\n",
              "      <td>F</td>\n",
              "      <td>01/08/1976 00:00:00</td>\n",
              "      <td>2019-01-07</td>\n",
              "      <td>571904533475-38</td>\n",
              "      <td>L133</td>\n",
              "      <td>70003237</td>\n",
              "      <td>9,0</td>\n",
              "    </tr>\n",
              "    <tr>\n",
              "      <th>1</th>\n",
              "      <td>10210830256-BIO003</td>\n",
              "      <td>F</td>\n",
              "      <td>01/08/1976 00:00:00</td>\n",
              "      <td>2019-01-07</td>\n",
              "      <td>571904533475-38</td>\n",
              "      <td>L133</td>\n",
              "      <td>70000638</td>\n",
              "      <td>13,0</td>\n",
              "    </tr>\n",
              "    <tr>\n",
              "      <th>2</th>\n",
              "      <td>10210830256-BIO003</td>\n",
              "      <td>F</td>\n",
              "      <td>01/08/1976 00:00:00</td>\n",
              "      <td>2019-01-07</td>\n",
              "      <td>571904533475-38</td>\n",
              "      <td>L133</td>\n",
              "      <td>70001597</td>\n",
              "      <td>49,0</td>\n",
              "    </tr>\n",
              "    <tr>\n",
              "      <th>3</th>\n",
              "      <td>10210830256-BIO003</td>\n",
              "      <td>F</td>\n",
              "      <td>01/08/1976 00:00:00</td>\n",
              "      <td>2019-01-07</td>\n",
              "      <td>571904533475-38</td>\n",
              "      <td>L133</td>\n",
              "      <td>70000103</td>\n",
              "      <td>11,0</td>\n",
              "    </tr>\n",
              "    <tr>\n",
              "      <th>4</th>\n",
              "      <td>10210830256-BIO003</td>\n",
              "      <td>F</td>\n",
              "      <td>01/08/1976 00:00:00</td>\n",
              "      <td>2019-01-07</td>\n",
              "      <td>571904533475-38</td>\n",
              "      <td>L133</td>\n",
              "      <td>70000224</td>\n",
              "      <td>10,0</td>\n",
              "    </tr>\n",
              "  </tbody>\n",
              "</table>\n",
              "</div>\n",
              "      <button class=\"colab-df-convert\" onclick=\"convertToInteractive('df-04f8b0e0-5892-48ed-ae2d-cac54dc1ad54')\"\n",
              "              title=\"Convert this dataframe to an interactive table.\"\n",
              "              style=\"display:none;\">\n",
              "        \n",
              "  <svg xmlns=\"http://www.w3.org/2000/svg\" height=\"24px\"viewBox=\"0 0 24 24\"\n",
              "       width=\"24px\">\n",
              "    <path d=\"M0 0h24v24H0V0z\" fill=\"none\"/>\n",
              "    <path d=\"M18.56 5.44l.94 2.06.94-2.06 2.06-.94-2.06-.94-.94-2.06-.94 2.06-2.06.94zm-11 1L8.5 8.5l.94-2.06 2.06-.94-2.06-.94L8.5 2.5l-.94 2.06-2.06.94zm10 10l.94 2.06.94-2.06 2.06-.94-2.06-.94-.94-2.06-.94 2.06-2.06.94z\"/><path d=\"M17.41 7.96l-1.37-1.37c-.4-.4-.92-.59-1.43-.59-.52 0-1.04.2-1.43.59L10.3 9.45l-7.72 7.72c-.78.78-.78 2.05 0 2.83L4 21.41c.39.39.9.59 1.41.59.51 0 1.02-.2 1.41-.59l7.78-7.78 2.81-2.81c.8-.78.8-2.07 0-2.86zM5.41 20L4 18.59l7.72-7.72 1.47 1.35L5.41 20z\"/>\n",
              "  </svg>\n",
              "      </button>\n",
              "      \n",
              "  <style>\n",
              "    .colab-df-container {\n",
              "      display:flex;\n",
              "      flex-wrap:wrap;\n",
              "      gap: 12px;\n",
              "    }\n",
              "\n",
              "    .colab-df-convert {\n",
              "      background-color: #E8F0FE;\n",
              "      border: none;\n",
              "      border-radius: 50%;\n",
              "      cursor: pointer;\n",
              "      display: none;\n",
              "      fill: #1967D2;\n",
              "      height: 32px;\n",
              "      padding: 0 0 0 0;\n",
              "      width: 32px;\n",
              "    }\n",
              "\n",
              "    .colab-df-convert:hover {\n",
              "      background-color: #E2EBFA;\n",
              "      box-shadow: 0px 1px 2px rgba(60, 64, 67, 0.3), 0px 1px 3px 1px rgba(60, 64, 67, 0.15);\n",
              "      fill: #174EA6;\n",
              "    }\n",
              "\n",
              "    [theme=dark] .colab-df-convert {\n",
              "      background-color: #3B4455;\n",
              "      fill: #D2E3FC;\n",
              "    }\n",
              "\n",
              "    [theme=dark] .colab-df-convert:hover {\n",
              "      background-color: #434B5C;\n",
              "      box-shadow: 0px 1px 3px 1px rgba(0, 0, 0, 0.15);\n",
              "      filter: drop-shadow(0px 1px 2px rgba(0, 0, 0, 0.3));\n",
              "      fill: #FFFFFF;\n",
              "    }\n",
              "  </style>\n",
              "\n",
              "      <script>\n",
              "        const buttonEl =\n",
              "          document.querySelector('#df-04f8b0e0-5892-48ed-ae2d-cac54dc1ad54 button.colab-df-convert');\n",
              "        buttonEl.style.display =\n",
              "          google.colab.kernel.accessAllowed ? 'block' : 'none';\n",
              "\n",
              "        async function convertToInteractive(key) {\n",
              "          const element = document.querySelector('#df-04f8b0e0-5892-48ed-ae2d-cac54dc1ad54');\n",
              "          const dataTable =\n",
              "            await google.colab.kernel.invokeFunction('convertToInteractive',\n",
              "                                                     [key], {});\n",
              "          if (!dataTable) return;\n",
              "\n",
              "          const docLinkHtml = 'Like what you see? Visit the ' +\n",
              "            '<a target=\"_blank\" href=https://colab.research.google.com/notebooks/data_table.ipynb>data table notebook</a>'\n",
              "            + ' to learn more about interactive tables.';\n",
              "          element.innerHTML = '';\n",
              "          dataTable['output_type'] = 'display_data';\n",
              "          await google.colab.output.renderOutput(dataTable, element);\n",
              "          const docLink = document.createElement('div');\n",
              "          docLink.innerHTML = docLinkHtml;\n",
              "          element.appendChild(docLink);\n",
              "        }\n",
              "      </script>\n",
              "    </div>\n",
              "  </div>\n",
              "  "
            ]
          },
          "metadata": {},
          "execution_count": 7
        }
      ]
    },
    {
      "cell_type": "markdown",
      "source": [
        "Com base na visão geral dos dados e dos dataframes, foi possível compreender de forma mais clara como as informações estão distribuídas em cada coluna. Além disso, constatou-se que alguns dados apresentam formatos incorretos, o que pode comprometer as análises posteriores.\n",
        "\n",
        "Antes de realizar a conversão dos tipos de dados, será necessário analisar a presença de valores ausentes em cada dataframe, uma vez que isso pode afetar a forma como os dados serão tratados. A identificação e o tratamento adequado desses valores faltantes são fundamentais para garantir a integridade e a confiabilidade dos resultados obtidos. Dessa forma, essa análise preliminar se faz necessária para minimizar possíveis impactos na conversão dos tipos de dados e na qualidade geral das análises realizadas."
      ],
      "metadata": {
        "id": "uf40Jcs2XeQF"
      }
    },
    {
      "cell_type": "markdown",
      "source": [
        "### **Analíse dos Valores ausentes**\n",
        "\n",
        "Para dar início à etapa de análise de dados ausentes, será calculada a porcentagem de valores faltantes em cada dataframe. Essa análise é fundamental para entender a magnitude e a distribuição desses valores ausentes e, assim, determinar a melhor estratégia de tratamento a ser adotada."
      ],
      "metadata": {
        "id": "JlKTzv1k_66h"
      }
    },
    {
      "cell_type": "code",
      "source": [
        "# Irei plotar um grafico para mostrar se existe valores ausentes e como eles estão destribuidos ao longo do dataframe \n",
        "msno.matrix(df_demo, figsize = (20,2));\n",
        "\n",
        "# Calculo da porcentagem de valores ausentes \n",
        "(df_demo.isnull().sum() / df_demo.shape[0] * 100).sort_values(ascending=False)\n",
        "\n",
        "# Realizarei o mesmo processo para o outros 4 dataframes"
      ],
      "metadata": {
        "colab": {
          "base_uri": "https://localhost:8080/",
          "height": 0
        },
        "id": "sfzcNQ-rB5gu",
        "outputId": "f69da0a8-aab0-4c81-a6ba-a2f6c6a2b54c"
      },
      "execution_count": 8,
      "outputs": [
        {
          "output_type": "execute_result",
          "data": {
            "text/plain": [
              "MedianAgeInYears                   1.717995\n",
              "SexRatio(males per 100 females)    1.509662\n",
              "Population_35to44Years             0.000000\n",
              "Population_85YearsAndOver          0.000000\n",
              "Population_75to84Years             0.000000\n",
              "Population_65to74Years             0.000000\n",
              "Population_60to64Years             0.000000\n",
              "Population_55to59Years             0.000000\n",
              "Population_45to54Years             0.000000\n",
              "Id                                 0.000000\n",
              "GeographicAreaName                 0.000000\n",
              "Population_20to24Years             0.000000\n",
              "Population_15to19Years             0.000000\n",
              "Population_10to14Years             0.000000\n",
              "Population_5to9Years               0.000000\n",
              "Population_Under5Years             0.000000\n",
              "TotalPopulation                    0.000000\n",
              "Population_25to34Years             0.000000\n",
              "dtype: float64"
            ]
          },
          "metadata": {},
          "execution_count": 8
        },
        {
          "output_type": "display_data",
          "data": {
            "text/plain": [
              "<Figure size 1440x144 with 2 Axes>"
            ],
            "image/png": "[encoded data removed]"
          },
          "metadata": {
            "needs_background": "light"
          }
        }
      ]
    },
    {
      "cell_type": "code",
      "source": [
        "# Grafico de valores ausentes\n",
        "msno.matrix(df_eco, figsize = (15,2));\n",
        "\n",
        "# Calculo da porcentagem de valores ausentes \n",
        "(df_eco.isnull().sum() / df_eco.shape[0] * 100).sort_values(ascending=False)"
      ],
      "metadata": {
        "colab": {
          "base_uri": "https://localhost:8080/",
          "height": 0
        },
        "id": "_4O0jTI7CtF1",
        "outputId": "e05559b9-7752-4346-e894-1d13dc8f248d"
      },
      "execution_count": 9,
      "outputs": [
        {
          "output_type": "execute_result",
          "data": {
            "text/plain": [
              "id                                    0.0\n",
              "Geographic Area Name                  0.0\n",
              "TotalHouseholds_LessThan$10.000       0.0\n",
              "TotalHouseholds_$10.000to$14.999      0.0\n",
              "TotalHouseholds_$15.000to$24.999      0.0\n",
              "TotalHouseholds_$25.000to$34.999      0.0\n",
              "TotalHouseholds_$35.000to$49.999      0.0\n",
              "TotalHouseholds_$50.000to$74.999      0.0\n",
              "TotalHouseholds_$75.000to$99.999      0.0\n",
              "TotalHouseholds_$100.000to$149.999    0.0\n",
              "TotalHouseholds_$150.000to$199.999    0.0\n",
              "TotalHouseholds_$200.000OrMore        0.0\n",
              "dtype: float64"
            ]
          },
          "metadata": {},
          "execution_count": 9
        },
        {
          "output_type": "display_data",
          "data": {
            "text/plain": [
              "<Figure size 1080x144 with 2 Axes>"
            ],
            "image/png": "[encoded data removed]"
          },
          "metadata": {
            "needs_background": "light"
          }
        }
      ]
    },
    {
      "cell_type": "code",
      "source": [
        "# Grafico de valores ausentes\n",
        "msno.matrix(df_geocod, figsize = (10,2));\n",
        "\n",
        "# Calculo da porcentagem de valores ausentes \n",
        "(df_geocod.isnull().sum() / df_geocod.shape[0] * 100).sort_values(ascending=False)"
      ],
      "metadata": {
        "colab": {
          "base_uri": "https://localhost:8080/",
          "height": 0
        },
        "id": "aIAL6eRACthE",
        "outputId": "86eba5c8-23bf-46d2-8cf3-d6469078538f"
      },
      "execution_count": 10,
      "outputs": [
        {
          "output_type": "execute_result",
          "data": {
            "text/plain": [
              "Zipcode     0.840336\n",
              "Lab Id      0.000000\n",
              "Address     0.000000\n",
              "Location    0.000000\n",
              "dtype: float64"
            ]
          },
          "metadata": {},
          "execution_count": 10
        },
        {
          "output_type": "display_data",
          "data": {
            "text/plain": [
              "<Figure size 720x144 with 2 Axes>"
            ],
            "image/png": "[encoded data removed]"
          },
          "metadata": {
            "needs_background": "light"
          }
        }
      ]
    },
    {
      "cell_type": "code",
      "source": [
        "# Grafico de valores ausentes\n",
        "msno.matrix(df_test, figsize = (10,2));\n",
        "\n",
        "# Calculo da porcentagem de valores ausentes \n",
        "(df_test.isnull().sum() / df_test.shape[0] * 100).sort_values(ascending=False)"
      ],
      "metadata": {
        "colab": {
          "base_uri": "https://localhost:8080/",
          "height": 0
        },
        "id": "vxl6eq95Ct1V",
        "outputId": "ad6aacc1-ee42-4d2b-ffcb-14291a1b1941"
      },
      "execution_count": 11,
      "outputs": [
        {
          "output_type": "execute_result",
          "data": {
            "text/plain": [
              "CodItem         0.0\n",
              "Desc Item       0.0\n",
              "Category        0.0\n",
              "Family          0.0\n",
              "Speciality      0.0\n",
              "Testing Cost    0.0\n",
              "dtype: float64"
            ]
          },
          "metadata": {},
          "execution_count": 11
        },
        {
          "output_type": "display_data",
          "data": {
            "text/plain": [
              "<Figure size 720x144 with 2 Axes>"
            ],
            "image/png": "[encoded data removed]"
          },
          "metadata": {
            "needs_background": "light"
          }
        }
      ]
    },
    {
      "cell_type": "code",
      "source": [
        "# Grafico de valores ausentes\n",
        "msno.matrix(df_tran, figsize = (12,2));\n",
        "\n",
        "# Calculo da porcentagem de valores ausentes \n",
        "(df_tran.isnull().sum() / df_tran.shape[0] * 100).sort_values(ascending=False)"
      ],
      "metadata": {
        "id": "gQBhyNsXCuTI"
      },
      "execution_count": null,
      "outputs": []
    },
    {
      "cell_type": "markdown",
      "source": [
        "#### **Tratando os dados ausentes**\n",
        "\n",
        "Foi possível observar a presença de valores ausentes em três dos cinco dataframes analisados, onde:\n",
        "\n",
        "*  No dataframe `df_demo`, foram identificadas duas colunas com valores ausentes, que representam no máximo `1,7%` do dataframe cada. Para tratar esses valores faltantes, optou-se por substituí-los pelas respectivas medianas das colunas. Essa estratégia é comumente utilizada para tratar valores ausentes em variáveis numéricas, uma vez que preserva as características centrais da distribuição dos dados e minimiza o impacto dos valores faltantes nas análises realizadas.\n",
        "\n",
        "* No dataframe `df_geocod`, foi identificada a presença de valores ausentes apenas na coluna Zipcode, representando uma porcentagem pequena de `0,84%` do dataframe. Dessa forma, optou-se por remover esses dados ausentes, uma vez que não devem afetar significativamente a análise exploratória realizada.\n",
        "\n",
        "*   No dataframe `df_tran`, foi identificada a presença de valores ausentes apenas na coluna Date of birth, representando uma porcentagem insignificante do dataframe. Dessa forma, optou-se por remover esses dados ausentes, uma vez que não afetam significativamente a análise exploratória a ser realizada."
      ],
      "metadata": {
        "id": "HfQPXqO7Dw2S"
      }
    },
    {
      "cell_type": "code",
      "source": [
        "# Substituindo os valores ausentes pela mediana \n",
        "df_demo['SexRatio(males per 100 females)'].fillna(df_demo['SexRatio(males per 100 females)'].median(), inplace=True)\n",
        "df_demo['MedianAgeInYears'].fillna(df_demo['MedianAgeInYears'].median(), inplace=True)"
      ],
      "metadata": {
        "id": "RD7lOyhW8UJD"
      },
      "execution_count": null,
      "outputs": []
    },
    {
      "cell_type": "code",
      "source": [
        "# Removendo os valores ausentes dos 2 dataframes abaixo\n",
        "df_geocod.dropna(inplace=True)\n",
        "df_tran.dropna(inplace=True)"
      ],
      "metadata": {
        "id": "CJpYaMnq9tms"
      },
      "execution_count": null,
      "outputs": []
    },
    {
      "cell_type": "markdown",
      "source": [
        "Agora que finalizamos o tratamento dos dados ausentes, podemos dar início à análise dos tipos de dados presentes em cada dataframe, com o objetivo de verificar se estão coerentes e realizar as conversões necessárias para otimizar a análise exploratória dos dados."
      ],
      "metadata": {
        "id": "3uo2BbJ4OtNl"
      }
    },
    {
      "cell_type": "markdown",
      "source": [
        "### **Convertendo o tipo dos dados**\n",
        "\n",
        "Conforme observado anteriormente, foi constatado que alguns dados apresentam formatos incorretos, portanto, será necessário realizar alteração nos tipos de alguns dados, conforme abaixo:\n",
        "\n",
        "*   A coluna `Location` deve ser convertida para `float64`\n",
        "*   A coluna `Zipcode` deve ser convertida para `int64`\n",
        "*   As colunas `Date of birth` e `Date of service`devem ser convertida para o formato correto de data`datetime64`\n",
        "*   A coluna `Testing Cost` deve ser convertida para `float64`\n",
        "\n",
        "Vale ressaltar, que também será necessário na coluna `Testing Cost` trocar a \",\" por \".\" que é o usual para tipos `float64`. E também irei dividir a coluna `Location` em duas novas colunas `latitude` e `longitude` para facilitar futuras análises permitindo uma visualização mais clara e precisa das informações geográficas presentes no dataset."
      ],
      "metadata": {
        "id": "Tp4HHFrrY20m"
      }
    },
    {
      "cell_type": "code",
      "source": [
        "# 1 - Inicialmente irei separar a coluna \"Location\" em \"latitude\" e \"longitude\" e em seguida converte as novas colunas para float64\n",
        "df_geocod[['Latitude', 'Longitude']] = df_geocod['Location'].str.split(',', 1, expand=True)\n",
        "\n",
        "# Agora irei converte as novas colunas para float\n",
        "df_geocod[['Latitude','Longitude']] = df_geocod[['Latitude','Longitude']].astype('float64')"
      ],
      "metadata": {
        "id": "EgiAb7nECsQe"
      },
      "execution_count": null,
      "outputs": []
    },
    {
      "cell_type": "code",
      "source": [
        "# 2 - Convertendo \"Zipcode\" para int64\n",
        "df_geocod['Zipcode'] = df_geocod['Zipcode'].astype('int64')"
      ],
      "metadata": {
        "id": "yEvWSwpUy99H"
      },
      "execution_count": null,
      "outputs": []
    },
    {
      "cell_type": "code",
      "source": [
        "# 3 - Convertendo \"Date of birth\" e \"Date of service\" para datetime64\n",
        "df_tran['Date of birth'] = pd.to_datetime(df_tran['Date of birth'], format='%d/%m/%Y %X')\n",
        "df_tran['Date of service'] = pd.to_datetime(df_tran['Date of service'])"
      ],
      "metadata": {
        "id": "-M2qLQa9zKDN"
      },
      "execution_count": null,
      "outputs": []
    },
    {
      "cell_type": "code",
      "source": [
        "# 4 - Convertendo \"Testing Cost\" para float64 e susbtituindo , por .\n",
        "df_tran['Testing Cost'] = df_tran['Testing Cost'].str.replace(',','.').astype('float64')\n"
      ],
      "metadata": {
        "id": "3XmmVw21zP50"
      },
      "execution_count": null,
      "outputs": []
    },
    {
      "cell_type": "markdown",
      "source": [
        "### **Analisar valores Duplicados**\n",
        "\n",
        "Será realizada a análise e remoção de valores duplicados, uma etapa crucial da análise exploratória de dados, pois a presença desses valores pode afetar negativamente a precisão e confiabilidade das análises, além de gerar redundâncias e informações desnecessárias no conjunto de dados."
      ],
      "metadata": {
        "id": "Hz-K6BxKqA-X"
      }
    },
    {
      "cell_type": "code",
      "source": [
        "# Irei calcular a quantidade de valores duplicados em cada dataframee\n",
        "print('O dataframe demo possui {} valores duplicados\\n'.format(df_demo['Id'].duplicated().sum()))\n",
        "print('O dataframe eco possui {} valores duplicados\\n'.format(df_eco['id'].duplicated().sum()))\n",
        "print('O dataframe geocod possui {} valores duplicados\\n'.format(df_geocod['Lab Id'].duplicated().sum()))\n",
        "print('O dataframe test possui {} valores duplicados\\n'.format(df_test['CodItem'].duplicated().sum()))\n",
        "print('O dataframe tran possui {} valores duplicados\\n'.format(df_tran['Patient Id'].duplicated().sum()))"
      ],
      "metadata": {
        "id": "tw0f59CZqEVN"
      },
      "execution_count": null,
      "outputs": []
    },
    {
      "cell_type": "markdown",
      "source": [
        "Como observado anteriormente, três dataframes apresentaram valores duplicados. Entretanto, no caso do dataframe `tran`, não será necessário remover os valores duplicados, já que esse dataframe contém informações de clientes e dos exames realizados por eles, logo, um mesmo cliente pode realizar mais de um exame.\n",
        "\n",
        "Para os outros dois dataframes, iniciarei o processo de remoção desses valores duplicados."
      ],
      "metadata": {
        "id": "zQoezxGz9-Q4"
      }
    },
    {
      "cell_type": "code",
      "source": [
        "# Removendo valores Duplicados\n",
        "df_eco.drop_duplicates(subset=['id'], inplace=True)\n",
        "df_test.drop_duplicates(subset=['CodItem'], inplace=True)"
      ],
      "metadata": {
        "id": "EOoA9xVTP87n"
      },
      "execution_count": null,
      "outputs": []
    },
    {
      "cell_type": "markdown",
      "source": [
        "### **Outliers**\n",
        "\n",
        "Esta etapa de análise de outliers tem como objetivo identificar valores extremos que se diferenciam do padrão da distribuição dos dados. Esses valores podem ser resultado de erros de medição ou representar situações reais e significativas que merecem atenção especial."
      ],
      "metadata": {
        "id": "QCqmm0CfzMQe"
      }
    },
    {
      "cell_type": "code",
      "source": [
        "# Irei analisar as variaveis numericas, para observar se a algum outlier ou outras inconformidades.\n",
        "df_demo.describe()"
      ],
      "metadata": {
        "id": "V6pfAW9DyejF"
      },
      "execution_count": null,
      "outputs": []
    },
    {
      "cell_type": "code",
      "source": [
        "df_eco.describe()"
      ],
      "metadata": {
        "id": "qQF8Z_s-yyal"
      },
      "execution_count": null,
      "outputs": []
    },
    {
      "cell_type": "code",
      "source": [
        "df_geocod.describe()"
      ],
      "metadata": {
        "id": "SA-amW9_yy6b"
      },
      "execution_count": null,
      "outputs": []
    },
    {
      "cell_type": "code",
      "source": [
        "df_test.describe()"
      ],
      "metadata": {
        "id": "9JAXCzASyzXx"
      },
      "execution_count": null,
      "outputs": []
    },
    {
      "cell_type": "code",
      "source": [
        "df_tran.describe()"
      ],
      "metadata": {
        "id": "DBuJSdL9yz1L"
      },
      "execution_count": null,
      "outputs": []
    },
    {
      "cell_type": "markdown",
      "source": [
        "Em relação aos outliers, como observado a cima nos valores maximo das colunas numericas de todos os dataframes, pode-se notar valores descrepantes, porém após uma analise sobre esses valores, conclui a priori que esses valores não se devem a Erro de amostragem ou Erro na entrada de dados. Por exemplo a media de idade de 98 anos, não é um erro de digitação, mas é por conta de um zipcode em que a população possuem apenas 17 pessoas, sendo 11 delas com idade a cima de 85 anos, a venda de um exame por 9500, que n é erro de digitação, mas sim um exame caro e em todo dataframe só 3 dele foi realizado. Portanto, por conta desses movitos decidi a primeiro momento não deletar os outliers, porque poderia acabar perdendo muita informação, porém para lidar com esses valores em futuras analises irei, filtrar e segmentar os dados, para não sofrer tanta influencia desses valores discrepantes.\n",
        "\n",
        "Porém quando olhamos para as colunas `Testing Cost` dos `df_test` e `df_tran` vemos valores minimos de 0, que talvez possam ser erro na entrada de dados, por que não faz sentido o valor para produzir um exame ser 0 e para vende-lo ser 0 também. Por isso irei deletar esses ``valores = 0`` da das colunas `Testing Cost`."
      ],
      "metadata": {
        "id": "XFgUEVSyC9Z_"
      }
    },
    {
      "cell_type": "code",
      "source": [
        "# Deletando os valores = 0 da coluna \"Testing Cost\"\n",
        "df_test.drop(df_test[df_test[\"Testing Cost\"] == 0].index, inplace=True)\n",
        "df_tran.drop(df_tran[df_tran[\"Testing Cost\"] == 0].index, inplace=True)"
      ],
      "metadata": {
        "id": "pzRZRDtefvle"
      },
      "execution_count": null,
      "outputs": []
    },
    {
      "cell_type": "markdown",
      "source": [
        "### Padronizar colunas texto\n",
        "\n",
        "Irei padronizar o formato do texto das colunas dos dataframe ``df_demo`` e ``df_eco``, para caso eu necessite fazer umas junção de ambom dataframe futuramente, eu não tenha problemas "
      ],
      "metadata": {
        "id": "cibBrjsyMlNq"
      }
    },
    {
      "cell_type": "code",
      "source": [
        "# Irei retirar todos espaços em branco das colunas e colocar a primeira letra em maiusculo e o resto em minusculo\n",
        "df_demo = df_demo.rename(columns=lambda x: x.strip().replace(' ', '').capitalize())\n",
        "df_eco = df_eco.rename(columns=lambda x: x.strip().replace(' ', '').capitalize())"
      ],
      "metadata": {
        "id": "QvjBjYYjSEzV"
      },
      "execution_count": null,
      "outputs": []
    },
    {
      "cell_type": "markdown",
      "source": [
        "## analise dos dados\n"
      ],
      "metadata": {
        "id": "4TVDeZkX0kuY"
      }
    },
    {
      "cell_type": "code",
      "source": [
        "df_demo1 = df_demo.copy()"
      ],
      "metadata": {
        "id": "HC16rlUGK5CX"
      },
      "execution_count": null,
      "outputs": []
    },
    {
      "cell_type": "code",
      "source": [
        "df_demo1[['cod','Zipcode']] = df_demo1['Geographicareaname'].str.split(' ', 1, expand=True)\n",
        "df_demo2 = df_demo1[['Zipcode',\"Totalpopulation\"]].astype(int)\n"
      ],
      "metadata": {
        "id": "zDmjqSjZKAzn"
      },
      "execution_count": null,
      "outputs": []
    },
    {
      "cell_type": "code",
      "source": [
        "df_merged1 = pd.merge(pd.merge(pd.merge(df_tran, df_test, on='CodItem'), df_geocod, on = 'Lab Id'), df_demo2, on='Zipcode').copy()"
      ],
      "metadata": {
        "id": "5w3pzEEJ2UGB"
      },
      "execution_count": null,
      "outputs": []
    },
    {
      "cell_type": "code",
      "source": [
        "\n",
        "df_merged1['Age'] = ((df_merged1['Date of service'] - df_merged1['Date of birth']).dt.days / 365.25).astype(int)\n",
        "df_merged1['Profit'] = df_merged1['Testing Cost_x'] - df_merged1['Testing Cost_y']\n",
        "df_a = df_merged1[[\"Patient Id\",\"Gender\",\"Age\",\"CodItem\",\"Desc Item\",\"Testing Cost_x\",\"Profit\",\"Lab Id\",\"Latitude\",\"Longitude\",\"Zipcode\",\"Totalpopulation\"]].copy()\n",
        "df_a.rename(columns={'Testing Cost_x':'Sale price'}, inplace=True)"
      ],
      "metadata": {
        "id": "nBrxouab5TI3"
      },
      "execution_count": null,
      "outputs": []
    },
    {
      "cell_type": "code",
      "source": [
        "df_a.head(20)"
      ],
      "metadata": {
        "id": "5th3Ct225sIM"
      },
      "execution_count": null,
      "outputs": []
    },
    {
      "cell_type": "markdown",
      "source": [
        "Sexo influencia?"
      ],
      "metadata": {
        "id": "mi6Lf4U01D_J"
      }
    },
    {
      "cell_type": "markdown",
      "source": [
        "Idade influencia?\n"
      ],
      "metadata": {
        "id": "C1G4aJ-d1ESi"
      }
    },
    {
      "cell_type": "markdown",
      "source": [
        "Tipo dos exames?"
      ],
      "metadata": {
        "id": "h2qvixwM1Ej_"
      }
    },
    {
      "cell_type": "markdown",
      "source": [
        "Tamanho populacional?"
      ],
      "metadata": {
        "id": "AKLreyjK1E0a"
      }
    },
    {
      "cell_type": "markdown",
      "source": [
        "Concorrencia?"
      ],
      "metadata": {
        "id": "GKbpq7_R1Fbm"
      }
    },
    {
      "cell_type": "markdown",
      "source": [
        "Classe economica?\n"
      ],
      "metadata": {
        "id": "vd1y1N3Q1OJ2"
      }
    }
  ]
}